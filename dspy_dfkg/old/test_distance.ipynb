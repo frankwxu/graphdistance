{
 "cells": [
  {
   "cell_type": "code",
   "execution_count": 1,
   "metadata": {},
   "outputs": [
    {
     "ename": "ModuleNotFoundError",
     "evalue": "No module named 'graph_aligner'",
     "output_type": "error",
     "traceback": [
      "\u001b[1;31m---------------------------------------------------------------------------\u001b[0m",
      "\u001b[1;31mModuleNotFoundError\u001b[0m                       Traceback (most recent call last)",
      "Cell \u001b[1;32mIn[1], line 2\u001b[0m\n\u001b[0;32m      1\u001b[0m \u001b[38;5;28;01mimport\u001b[39;00m \u001b[38;5;21;01mimportlib\u001b[39;00m\n\u001b[1;32m----> 2\u001b[0m \u001b[38;5;28;01mimport\u001b[39;00m \u001b[38;5;21;01mgraph_aligner\u001b[39;00m\n\u001b[0;32m      3\u001b[0m \u001b[38;5;28;01mimport\u001b[39;00m \u001b[38;5;21;01mgraph_distancer\u001b[39;00m\n\u001b[0;32m      5\u001b[0m \u001b[38;5;28;01mfrom\u001b[39;00m \u001b[38;5;21;01mgraph_aligner\u001b[39;00m \u001b[38;5;28;01mimport\u001b[39;00m GraphAligner\n",
      "\u001b[1;31mModuleNotFoundError\u001b[0m: No module named 'graph_aligner'"
     ]
    }
   ],
   "source": [
    "\n",
    "import importlib\n",
    "import graph_aligner\n",
    "import graph_distancer\n",
    "\n",
    "from graph_aligner import GraphAligner\n",
    "from graph_distancer import GraphDistancer\n",
    "\n",
    "importlib.reload(graph_aligner)\n",
    "importlib.reload(graph_distancer)\n",
    "\n",
    "import os\n",
    "import shutil\n",
    "\n",
    "\n",
    "def remove_pycache():\n",
    "    for root, dirs, files in os.walk(\".\"):\n",
    "        if \"__pycache__\" in dirs:\n",
    "            pycache_path = os.path.join(root, \"__pycache__\")\n",
    "            print(f\"Removing: {pycache_path}\")\n",
    "            shutil.rmtree(pycache_path)\n",
    "\n",
    "\n",
    "remove_pycache()\n",
    "print(\"__pycache__ directories removed.\")"
   ]
  },
  {
   "cell_type": "code",
   "execution_count": null,
   "metadata": {},
   "outputs": [
    {
     "name": "stderr",
     "output_type": "stream",
     "text": [
      "i:\\conda_envs\\dspy_dfkg\\Lib\\site-packages\\huggingface_hub\\file_download.py:1132: FutureWarning: `resume_download` is deprecated and will be removed in version 1.0.0. Downloads always resume when possible. If you want to force a new download, use `force_download=True`.\n",
      "  warnings.warn(\n"
     ]
    }
   ],
   "source": [
    "# Example usage\n",
    "graph1_path = \"testcase/test/03_a.json\"  # Path to your first graph JSON file\n",
    "graph2_path = \"testcase/test/03_b.json\"  # Path to your second graph JSON file\n",
    "\n",
    "aligner = GraphAligner(graph1_path, graph2_path)\n",
    "matrix = aligner.compute_similarity_matrix()\n",
    "matched_pair = aligner.match_pairs()\n",
    "g1, g2 = aligner.align_graphs(shown_old_ids=False, save_to_file=True)\n",
    "\n",
    "# Example usage\n",
    "graph1_path = \"graphA.json\"  # Path to your first graph JSON file\n",
    "graph2_path = \"graphB.json\"  # Path to your second graph JSON file\n",
    "\n",
    "distancer = GraphDistancer(graph1_path, graph2_path)"
   ]
  },
  {
   "cell_type": "code",
   "execution_count": null,
   "metadata": {},
   "outputs": [],
   "source": [
    "gx1, gx2, g1, g2 = (\n",
    "    distancer.graphx1,\n",
    "    distancer.graphx2,\n",
    "    distancer.graph1,\n",
    "    distancer.graph2,\n",
    ")"
   ]
  },
  {
   "cell_type": "code",
   "execution_count": null,
   "metadata": {},
   "outputs": [
    {
     "data": {
      "text/plain": [
       "[{'id': '0', 'name': 'Node A', 'description': 'This is Node A'}]"
      ]
     },
     "execution_count": 68,
     "metadata": {},
     "output_type": "execute_result"
    }
   ],
   "source": [
    "g1"
   ]
  },
  {
   "cell_type": "code",
   "execution_count": null,
   "metadata": {},
   "outputs": [
    {
     "data": {
      "text/plain": [
       "[{'id': '0',\n",
       "  'name': 'Node A',\n",
       "  'description': 'This is Node A',\n",
       "  'short': 'node a'}]"
      ]
     },
     "execution_count": 69,
     "metadata": {},
     "output_type": "execute_result"
    }
   ],
   "source": [
    "g2"
   ]
  },
  {
   "cell_type": "code",
   "execution_count": null,
   "metadata": {},
   "outputs": [
    {
     "name": "stdout",
     "output_type": "stream",
     "text": [
      "Nodes: ['0']\n",
      "Edges:\n"
     ]
    }
   ],
   "source": [
    "# Print the adjacency list\n",
    "distancer.print_gx(gx1)"
   ]
  },
  {
   "cell_type": "code",
   "execution_count": null,
   "metadata": {},
   "outputs": [
    {
     "name": "stdout",
     "output_type": "stream",
     "text": [
      "Nodes: ['0']\n",
      "Edges:\n"
     ]
    }
   ],
   "source": [
    "distancer.print_gx(gx2)"
   ]
  },
  {
   "cell_type": "code",
   "execution_count": null,
   "metadata": {},
   "outputs": [
    {
     "data": {
      "image/png": "[encoded data removed]",
      "text/plain": [
       "<Figure size 2000x1000 with 2 Axes>"
      ]
     },
     "metadata": {},
     "output_type": "display_data"
    }
   ],
   "source": [
    "distancer.visualize_graphs()"
   ]
  },
  {
   "cell_type": "code",
   "execution_count": null,
   "metadata": {},
   "outputs": [
    {
     "name": "stdout",
     "output_type": "stream",
     "text": [
      "Node substitution: {'id': '0'} -> {'id': '0'}, Cost: 0\n",
      "Node deletion: {'id': '0'}, Cost: 1\n",
      "Node insertion: {'id': '0'}, Cost: 1\n"
     ]
    },
    {
     "data": {
      "text/plain": [
       "0.0"
      ]
     },
     "execution_count": 73,
     "metadata": {},
     "output_type": "execute_result"
    }
   ],
   "source": [
    "distancer.calculate_graph_edit_distance()"
   ]
  },
  {
   "cell_type": "code",
   "execution_count": null,
   "metadata": {},
   "outputs": [
    {
     "data": {
      "text/plain": [
       "({'short'},\n",
       " set(),\n",
       " {'description', 'id', 'name'},\n",
       " [{'id': '0', 'name': 'Node A', 'description': 'This is Node A'}],\n",
       " [{'id': '0',\n",
       "   'name': 'Node A',\n",
       "   'description': 'This is Node A',\n",
       "   'short': 'node a'}])"
      ]
     },
     "execution_count": 74,
     "metadata": {},
     "output_type": "execute_result"
    }
   ],
   "source": [
    "distancer.calculate_graph_key_distances()"
   ]
  },
  {
   "cell_type": "code",
   "execution_count": null,
   "metadata": {},
   "outputs": [
    {
     "name": "stdout",
     "output_type": "stream",
     "text": [
      "The Graph Edit Distance is: 4.0\n"
     ]
    }
   ],
   "source": [
    "import networkx as nx\n",
    "\n",
    "\n",
    "# Define our node and edge matching functions\n",
    "def node_match(n1, n2):\n",
    "    return n1[\"color\"] == n2[\"color\"]\n",
    "\n",
    "\n",
    "def edge_match(e1, e2):\n",
    "    return e1[\"weight\"] == e2[\"weight\"]\n",
    "\n",
    "\n",
    "# Create our first graph\n",
    "G1 = nx.Graph()\n",
    "G1.add_node(1, color=\"red\")\n",
    "G1.add_node(2, color=\"blue\")\n",
    "G1.add_node(3, color=\"green\")\n",
    "G1.add_edge(1, 2, weight=1)\n",
    "G1.add_edge(2, 3, weight=2)\n",
    "\n",
    "# Create our second graph\n",
    "G2 = nx.Graph()\n",
    "G2.add_node(1, color=\"red\")\n",
    "G2.add_node(2, color=\"blue\")\n",
    "G2.add_node(3, color=\"yellow\")\n",
    "G2.add_node(4, color=\"green\")\n",
    "G2.add_edge(1, 2, weight=1)\n",
    "G2.add_edge(2, 3, weight=1)\n",
    "G2.add_edge(3, 4, weight=2)\n",
    "\n",
    "# Calculate the Graph Edit Distance\n",
    "ged = nx.graph_edit_distance(\n",
    "    G1,\n",
    "    G2,\n",
    "    node_match=node_match,\n",
    "    edge_match=edge_match,\n",
    "    node_subst_cost=lambda n1, n2: 0 if node_match(n1, n2) else 1,\n",
    "    node_del_cost=lambda n: 1,\n",
    "    node_ins_cost=lambda n: 1,\n",
    "    edge_subst_cost=lambda e1, e2: 0 if edge_match(e1, e2) else 1,\n",
    "    edge_del_cost=lambda e: 1,\n",
    "    edge_ins_cost=lambda e: 1,\n",
    ")\n",
    "\n",
    "print(f\"The Graph Edit Distance is: {ged}\")"
   ]
  },
  {
   "cell_type": "code",
   "execution_count": null,
   "metadata": {},
   "outputs": [],
   "source": []
  },
  {
   "cell_type": "code",
   "execution_count": null,
   "metadata": {},
   "outputs": [
    {
     "name": "stdout",
     "output_type": "stream",
     "text": [
      "Node substitution: {} -> {}, Cost: 0\n",
      "Node substitution: {} -> {}, Cost: 0\n",
      "Node substitution: {} -> {}, Cost: 0\n",
      "Node substitution: {} -> {}, Cost: 0\n",
      "Node substitution: {} -> {}, Cost: 0\n",
      "Node substitution: {} -> {}, Cost: 0\n",
      "Node substitution: {} -> {}, Cost: 0\n",
      "Node substitution: {} -> {}, Cost: 0\n",
      "Node substitution: {} -> {}, Cost: 0\n",
      "Node substitution: {} -> {}, Cost: 0\n",
      "Node substitution: {} -> {}, Cost: 0\n",
      "Node substitution: {} -> {}, Cost: 0\n",
      "Node deletion: {}, Cost: 1\n",
      "Node deletion: {}, Cost: 1\n",
      "Node deletion: {}, Cost: 1\n",
      "Node insertion: {}, Cost: 1\n",
      "Node insertion: {}, Cost: 1\n",
      "Node insertion: {}, Cost: 1\n",
      "Node insertion: {}, Cost: 1\n",
      "Edge substitution: {} -> {}, Cost: 0\n",
      "Edge substitution: {} -> {}, Cost: 0\n",
      "Edge substitution: {} -> {}, Cost: 0\n",
      "Edge substitution: {} -> {}, Cost: 0\n",
      "Edge substitution: {} -> {}, Cost: 0\n",
      "Edge substitution: {} -> {}, Cost: 0\n",
      "Edge deletion: {}, Cost: 1\n",
      "Edge deletion: {}, Cost: 1\n",
      "Edge insertion: {}, Cost: 1\n",
      "Edge insertion: {}, Cost: 1\n",
      "Edge insertion: {}, Cost: 1\n",
      "\n",
      "The Graph Edit Distance is: 2.0\n"
     ]
    }
   ],
   "source": [
    "import networkx as nx\n",
    "\n",
    "# Create our graphs\n",
    "G1 = nx.Graph()\n",
    "G1.add_nodes_from([1, 2, 3])\n",
    "G1.add_edges_from([(1, 2), (2, 3)])\n",
    "\n",
    "G2 = nx.Graph()\n",
    "G2.add_nodes_from([1, 2, 3, 4])\n",
    "G2.add_edges_from([(1, 2), (2, 3), (3, 4)])\n",
    "\n",
    "\n",
    "def node_match(n1, n2):\n",
    "    return n1 == n2\n",
    "\n",
    "\n",
    "def edge_match(e1, e2):\n",
    "    return e1 == e2\n",
    "\n",
    "\n",
    "# Custom cost functions to display all operations\n",
    "def node_subst_cost(n1, n2):\n",
    "    cost = 0 if node_match(n1, n2) else 1\n",
    "    print(f\"Node substitution: {n1} -> {n2}, Cost: {cost}\")\n",
    "    return cost\n",
    "\n",
    "\n",
    "def node_del_cost(n):\n",
    "    print(f\"Node deletion: {n}, Cost: 1\")\n",
    "    return 1\n",
    "\n",
    "\n",
    "def node_ins_cost(n):\n",
    "    print(f\"Node insertion: {n}, Cost: 1\")\n",
    "    return 1\n",
    "\n",
    "\n",
    "def edge_subst_cost(e1, e2):\n",
    "    cost = 0 if edge_match(e1, e2) else 1\n",
    "    print(f\"Edge substitution: {e1} -> {e2}, Cost: {cost}\")\n",
    "    return cost\n",
    "\n",
    "\n",
    "def edge_del_cost(e):\n",
    "    print(f\"Edge deletion: {e}, Cost: 1\")\n",
    "    return 1\n",
    "\n",
    "\n",
    "def edge_ins_cost(e):\n",
    "    print(f\"Edge insertion: {e}, Cost: 1\")\n",
    "    return 1\n",
    "\n",
    "\n",
    "ged = nx.graph_edit_distance(\n",
    "    G1,\n",
    "    G2,\n",
    "    node_match=node_match,\n",
    "    edge_match=edge_match,\n",
    "    node_subst_cost=node_subst_cost,\n",
    "    node_del_cost=node_del_cost,\n",
    "    node_ins_cost=node_ins_cost,\n",
    "    edge_subst_cost=edge_subst_cost,\n",
    "    edge_del_cost=edge_del_cost,\n",
    "    edge_ins_cost=edge_ins_cost,\n",
    ")\n",
    "\n",
    "print(f\"\\nThe Graph Edit Distance is: {ged}\")"
   ]
  },
  {
   "cell_type": "code",
   "execution_count": null,
   "metadata": {},
   "outputs": [
    {
     "name": "stdout",
     "output_type": "stream",
     "text": [
      "Graph Edit Distance: 1.0\n",
      "\n",
      "Edit Operations:\n",
      "Substitute node: 4 -> 5\n",
      "Insert edge: (3, 5)\n",
      "\n",
      "Isolated nodes:\n",
      "G1: [4]\n",
      "G2: []\n"
     ]
    }
   ],
   "source": [
    "import networkx as nx\n",
    "\n",
    "# Create two example undirected graphs with isolated nodes\n",
    "G1 = nx.Graph()\n",
    "G1.add_nodes_from([1, 2, 3, 4])\n",
    "G1.add_edges_from([(1, 2), (2, 3)])\n",
    "# Node 4 is isolated in G1\n",
    "\n",
    "G2 = nx.Graph()\n",
    "G2.add_nodes_from([1, 2, 3, 5])\n",
    "G2.add_edges_from([(1, 2), (2, 3), (3, 5)])\n",
    "# Node 1 becomes isolated in G2\n",
    "\n",
    "# Calculate the edit paths and distance\n",
    "edit_paths = list(nx.optimize_edit_paths(G1, G2))\n",
    "\n",
    "# The first item in the list is the best edit path\n",
    "best_path = edit_paths[0]\n",
    "vertex_path, edge_path, cost = best_path\n",
    "\n",
    "print(f\"Graph Edit Distance: {cost}\")\n",
    "print(\"\\nEdit Operations:\")\n",
    "\n",
    "# List vertex edit operations\n",
    "for v1, v2 in vertex_path:\n",
    "    if v1 is None:\n",
    "        print(f\"Insert node: {v2}\")\n",
    "    elif v2 is None:\n",
    "        print(f\"Delete node: {v1}\")\n",
    "    elif v1 != v2:\n",
    "        print(f\"Substitute node: {v1} -> {v2}\")\n",
    "\n",
    "# List edge edit operations\n",
    "for e1, e2 in edge_path:\n",
    "    if e1 is None:\n",
    "        print(f\"Insert edge: {e2}\")\n",
    "    elif e2 is None:\n",
    "        print(f\"Delete edge: {e1}\")\n",
    "    elif e1 != e2:\n",
    "        print(f\"Substitute edge: {e1} -> {e2}\")\n",
    "\n",
    "# Print isolated nodes for each graph\n",
    "print(\"\\nIsolated nodes:\")\n",
    "print(f\"G1: {list(nx.isolates(G1))}\")\n",
    "print(f\"G2: {list(nx.isolates(G2))}\")"
   ]
  },
  {
   "cell_type": "code",
   "execution_count": null,
   "metadata": {},
   "outputs": [
    {
     "name": "stdout",
     "output_type": "stream",
     "text": [
      "Graph Edit Distance: 1.0\n",
      "\n",
      "Edit Operations:\n",
      "Substitute node: 4 -> 5\n",
      "Insert edge: (3, 5)\n",
      "\n",
      "Isolated nodes:\n",
      "G1: [4]\n",
      "G2: []\n"
     ]
    }
   ],
   "source": [
    "import networkx as nx\n",
    "\n",
    "\n",
    "def calculate_graph_edit_distance(G1, G2):\n",
    "    \"\"\"\n",
    "    Calculate the graph edit distance between two undirected graphs and list each edit operation.\n",
    "\n",
    "    Parameters:\n",
    "    G1, G2 (networkx.Graph): The two graphs to compare\n",
    "\n",
    "    Returns:\n",
    "    float: The graph edit distance\n",
    "    list: List of edit operations\n",
    "    \"\"\"\n",
    "    # Calculate the edit paths and distance\n",
    "    edit_paths = list(nx.optimize_edit_paths(G1, G2))\n",
    "\n",
    "    # The first item in the list is the best edit path\n",
    "    best_path = edit_paths[0]\n",
    "    vertex_path, edge_path, cost = best_path\n",
    "\n",
    "    edit_operations = []\n",
    "\n",
    "    # List vertex edit operations\n",
    "    for v1, v2 in vertex_path:\n",
    "        if v1 is None:\n",
    "            edit_operations.append(f\"Insert node: {v2}\")\n",
    "        elif v2 is None:\n",
    "            edit_operations.append(f\"Delete node: {v1}\")\n",
    "        elif v1 != v2:\n",
    "            edit_operations.append(f\"Substitute node: {v1} -> {v2}\")\n",
    "\n",
    "    # List edge edit operations\n",
    "    for e1, e2 in edge_path:\n",
    "        if e1 is None:\n",
    "            edit_operations.append(f\"Insert edge: {e2}\")\n",
    "        elif e2 is None:\n",
    "            edit_operations.append(f\"Delete edge: {e1}\")\n",
    "        elif e1 != e2:\n",
    "            edit_operations.append(f\"Substitute edge: {e1} -> {e2}\")\n",
    "\n",
    "    return cost, edit_operations\n",
    "\n",
    "\n",
    "# Example usage\n",
    "if __name__ == \"__main__\":\n",
    "    # Create two example undirected graphs with isolated nodes\n",
    "    G1 = nx.Graph()\n",
    "    G1.add_nodes_from([1, 2, 3, 4])\n",
    "    G1.add_edges_from([(1, 2), (2, 3)])\n",
    "    # Node 4 is isolated in G1\n",
    "\n",
    "    G2 = nx.Graph()\n",
    "    G2.add_nodes_from([1, 2, 3, 5])\n",
    "    G2.add_edges_from([(1, 2), (2, 3), (3, 5)])\n",
    "    # Node 1 becomes isolated in G2\n",
    "\n",
    "    # Calculate graph edit distance and get edit operations\n",
    "    distance, operations = calculate_graph_edit_distance(G1, G2)\n",
    "\n",
    "    # Print results\n",
    "    print(f\"Graph Edit Distance: {distance}\")\n",
    "    print(\"\\nEdit Operations:\")\n",
    "    for op in operations:\n",
    "        print(op)\n",
    "\n",
    "    # Print isolated nodes for each graph\n",
    "    print(\"\\nIsolated nodes:\")\n",
    "    print(f\"G1: {list(nx.isolates(G1))}\")\n",
    "    print(f\"G2: {list(nx.isolates(G2))}\")"
   ]
  },
  {
   "cell_type": "code",
   "execution_count": null,
   "metadata": {},
   "outputs": [
    {
     "name": "stdout",
     "output_type": "stream",
     "text": [
      "Graph Edit Distance: 1.0\n",
      "\n",
      "Edit Operations:\n",
      "Substitute Node:\n",
      "  (4, 5)\n",
      "Insert Edge:\n",
      "  (3, 5)\n",
      "\n",
      "Number of Edit Operations:\n",
      "Substitute Node: 1\n",
      "Insert Edge: 1\n"
     ]
    }
   ],
   "source": [
    "from collections import defaultdict\n",
    "import networkx as nx\n",
    "\n",
    "\n",
    "def calculate_graph_edit_distance_details(G1, G2):\n",
    "    \"\"\"\n",
    "    Calculate the graph edit distance between two undirected graphs and provide detailed edit operations.\n",
    "\n",
    "    Parameters:\n",
    "    G1, G2 (networkx.Graph): The two graphs to compare\n",
    "\n",
    "    Returns:\n",
    "    float: The graph edit distance\n",
    "    dict: Dictionary of edit operations grouped by type\n",
    "    dict: Dictionary of number of edit operations for each type\n",
    "    \"\"\"\n",
    "    # Calculate the edit paths and distance\n",
    "    edit_paths = list(nx.optimize_edit_paths(G1, G2))\n",
    "\n",
    "    # The first item in the list is the best edit path\n",
    "    best_path = edit_paths[0]\n",
    "    vertex_path, edge_path, cost = best_path\n",
    "\n",
    "    edit_operations = defaultdict(list)\n",
    "    num_edit_operations = defaultdict(int)\n",
    "\n",
    "    # List vertex edit operations\n",
    "    for v1, v2 in vertex_path:\n",
    "        if v1 is None:\n",
    "            edit_operations[\"insert_node\"].append(v2)\n",
    "            num_edit_operations[\"insert_node\"] += 1\n",
    "        elif v2 is None:\n",
    "            edit_operations[\"delete_node\"].append(v1)\n",
    "            num_edit_operations[\"delete_node\"] += 1\n",
    "        elif v1 != v2:\n",
    "            edit_operations[\"substitute_node\"].append((v1, v2))\n",
    "            num_edit_operations[\"substitute_node\"] += 1\n",
    "\n",
    "    # List edge edit operations\n",
    "    for e1, e2 in edge_path:\n",
    "        if e1 is None:\n",
    "            edit_operations[\"insert_edge\"].append(e2)\n",
    "            num_edit_operations[\"insert_edge\"] += 1\n",
    "        elif e2 is None:\n",
    "            edit_operations[\"delete_edge\"].append(e1)\n",
    "            num_edit_operations[\"delete_edge\"] += 1\n",
    "        elif e1 != e2:\n",
    "            edit_operations[\"substitute_edge\"].append((e1, e2))\n",
    "            num_edit_operations[\"substitute_edge\"] += 1\n",
    "\n",
    "    return cost, dict(edit_operations), dict(num_edit_operations)\n",
    "\n",
    "\n",
    "# Example usage\n",
    "if __name__ == \"__main__\":\n",
    "    # Create two example undirected graphs\n",
    "    G1 = nx.Graph()\n",
    "    G1.add_nodes_from([1, 2, 3, 4])\n",
    "    G1.add_edges_from([(1, 2), (2, 3)])\n",
    "\n",
    "    G2 = nx.Graph()\n",
    "    G2.add_nodes_from([1, 2, 3, 5])\n",
    "    G2.add_edges_from([(1, 2), (2, 3), (3, 5)])\n",
    "\n",
    "    # Calculate graph edit distance and get edit operations\n",
    "    distance, operations, num_operations = calculate_graph_edit_distance_details(G1, G2)\n",
    "\n",
    "    # Print results\n",
    "    print(f\"Graph Edit Distance: {distance}\")\n",
    "    print(\"\\nEdit Operations:\")\n",
    "    for op_type, op_list in operations.items():\n",
    "        print(f\"{op_type.replace('_', ' ').title()}:\")\n",
    "        for op in op_list:\n",
    "            print(f\"  {op}\")\n",
    "\n",
    "    print(\"\\nNumber of Edit Operations:\")\n",
    "    for op_type, count in num_operations.items():\n",
    "        print(f\"{op_type.replace('_', ' ').title()}: {count}\")"
   ]
  },
  {
   "cell_type": "code",
   "execution_count": null,
   "metadata": {},
   "outputs": [],
   "source": []
  }
 ],
 "metadata": {
  "kernelspec": {
   "display_name": "Python 3",
   "language": "python",
   "name": "python3"
  },
  "language_info": {
   "codemirror_mode": {
    "name": "ipython",
    "version": 3
   },
   "file_extension": ".py",
   "mimetype": "text/x-python",
   "name": "python",
   "nbconvert_exporter": "python",
   "pygments_lexer": "ipython3",
   "version": "3.12.3"
  }
 },
 "nbformat": 4,
 "nbformat_minor": 2
}
