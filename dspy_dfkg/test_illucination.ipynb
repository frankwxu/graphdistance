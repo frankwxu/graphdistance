{
 "cells": [
  {
   "cell_type": "code",
   "execution_count": 25,
   "metadata": {},
   "outputs": [
    {
     "name": "stdout",
     "output_type": "stream",
     "text": [
      "Removing: .\\__pycache__\n",
      "__pycache__ directories removed.\n"
     ]
    }
   ],
   "source": [
    "import importlib\n",
    "import graph_aligner\n",
    "import graph_distancer\n",
    "\n",
    "from graph_aligner import GraphAligner\n",
    "from graph_distancer import GraphDistancer\n",
    "\n",
    "importlib.reload(graph_aligner)\n",
    "importlib.reload(graph_distancer)\n",
    "\n",
    "import os\n",
    "import shutil\n",
    "\n",
    "import warnings\n",
    "\n",
    "# Disable all warnings\n",
    "warnings.filterwarnings(\"ignore\")\n",
    "\n",
    "# Your code here\n",
    "\n",
    "def remove_pycache():\n",
    "    for root, dirs, files in os.walk(\".\"):\n",
    "        if \"__pycache__\" in dirs:\n",
    "            pycache_path = os.path.join(root, \"__pycache__\")\n",
    "            print(f\"Removing: {pycache_path}\")\n",
    "            shutil.rmtree(pycache_path)\n",
    "\n",
    "\n",
    "remove_pycache()\n",
    "print(\"__pycache__ directories removed.\")"
   ]
  },
  {
   "cell_type": "code",
   "execution_count": 26,
   "metadata": {},
   "outputs": [
    {
     "name": "stdout",
     "output_type": "stream",
     "text": [
      "graph_keys_inserted: 2\n",
      "graph_keys_kept_same: 3\n",
      "key_hullucination: num_graph_keys_inserted / num_graph_keys_kept_same:66.66666666666667\n"
     ]
    }
   ],
   "source": [
    "# Example usage\n",
    "graph_path1 = \"testcase/key_distance/06_a.json\"  # Path to your graph JSON file\n",
    "graph_path2 = \"testcase/key_distance/06_b.json\"  # Path to your graph JSON file\n",
    "\n",
    "aligner = GraphAligner(graph_path1, graph_path2)\n",
    "g1, g2 = aligner.align_graphs(shown_old_ids=False, save_to_file=True)\n",
    "\n",
    "\n",
    "graph_dist = GraphDistancer(graph_path1, graph_path2)\n",
    "\n",
    "num_graph_keys_inserted, num_graph_keys_kept_same, key_hullucination = (\n",
    "    graph_dist.calculate_graph_key_hullucination()\n",
    ")\n",
    "print(f\"graph_keys_inserted: {num_graph_keys_inserted}\")\n",
    "print(f\"graph_keys_kept_same: {num_graph_keys_kept_same}\")\n",
    "print(\n",
    "    f\"key_hullucination: num_graph_keys_inserted / num_graph_keys_kept_same:{key_hullucination}\"\n",
    ")"
   ]
  },
  {
   "cell_type": "code",
   "execution_count": 27,
   "metadata": {},
   "outputs": [
    {
     "name": "stdout",
     "output_type": "stream",
     "text": [
      "Threshold below 0.6: 0\n",
      "Total numbers: 3\n",
      "Percentage below threshold: Threshold below /Total numbers: 0.00%\n"
     ]
    }
   ],
   "source": [
    "threshold = 0.6\n",
    "below_threshold, total_count, percentage = (\n",
    "    graph_dist.calculate_graph_value_hallucination(threshold)\n",
    ")\n",
    "\n",
    "print(f\"Threshold below {threshold}: {below_threshold}\")\n",
    "print(f\"Total numbers: {total_count}\")\n",
    "print(f\"Percentage below threshold: Threshold below /Total numbers: {percentage:.2f}%\")"
   ]
  }
 ],
 "metadata": {
  "kernelspec": {
   "display_name": "Python 3",
   "language": "python",
   "name": "python3"
  },
  "language_info": {
   "codemirror_mode": {
    "name": "ipython",
    "version": 3
   },
   "file_extension": ".py",
   "mimetype": "text/x-python",
   "name": "python",
   "nbconvert_exporter": "python",
   "pygments_lexer": "ipython3",
   "version": "3.12.3"
  }
 },
 "nbformat": 4,
 "nbformat_minor": 2
}
