{
 "cells": [
  {
   "cell_type": "code",
   "execution_count": 1,
   "metadata": {},
   "outputs": [
    {
     "name": "stderr",
     "output_type": "stream",
     "text": [
      "i:\\conda_envs\\dspy_dfkg\\Lib\\site-packages\\sentence_transformers\\cross_encoder\\CrossEncoder.py:11: TqdmExperimentalWarning: Using `tqdm.autonotebook.tqdm` in notebook mode. Use `tqdm.tqdm` instead to force console mode (e.g. in jupyter console)\n",
      "  from tqdm.autonotebook import tqdm, trange\n"
     ]
    }
   ],
   "source": [
    "import json\n",
    "import random\n",
    "import numpy as np\n",
    "from sentence_transformers import SentenceTransformer\n",
    "from sklearn.metrics.pairwise import cosine_similarity\n",
    "\n",
    "import os\n",
    "import string\n",
    "from collections import defaultdict\n",
    "import heapq\n",
    "import networkx as nx\n",
    "import matplotlib.pyplot as plt\n",
    "import numpy as np\n",
    "import pandas as pd\n",
    "import spacy\n",
    "import torch\n",
    "from sklearn.metrics.pairwise import cosine_similarity\n",
    "from transformers import BertModel, BertTokenizer\n"
   ]
  },
  {
   "cell_type": "code",
   "execution_count": 2,
   "metadata": {},
   "outputs": [],
   "source": [
    "class GraphAligner:\n",
    "    def __init__(self, graph1_path, graph2_path, model_name='all-MiniLM-L6-v2'):\n",
    "        self.model = SentenceTransformer(model_name)\n",
    "        self.matched_pairs = {}\n",
    "        self.new_id_start_graphA = 10000\n",
    "        self.new_id_start_graphB = 20000\n",
    "        self.graph1 = self.rename_ids(self.load_json(graph1_path), graph_type=\"A\")\n",
    "        self.graph2 = self.rename_ids(self.load_json(graph2_path), graph_type=\"B\")\n",
    "\n",
    "    def load_json(self, file_path):\n",
    "        try:\n",
    "            with open(file_path, 'r', encoding='utf-8') as file:\n",
    "                return json.load(file)\n",
    "        except FileNotFoundError:\n",
    "            print(f\"Error: File not found - {file_path}\")\n",
    "        except json.JSONDecodeError as e:\n",
    "            print(f\"Error: Failed to decode JSON from file - {file_path}\")\n",
    "            print(f\"Error details: {e}\")\n",
    "        return None\n",
    "\n",
    "    def rename_ids(self, json_obj, graph_type=\"A\"):\n",
    "        new_id = (\n",
    "            self.new_id_start_graphA if graph_type == \"A\" else self.new_id_start_graphB\n",
    "        )  # we relabel all IDs with larger numbers\n",
    "        # Create a mapping of old IDs to new IDs\n",
    "        id_mapping = {}\n",
    "\n",
    "        for item in json_obj:\n",
    "            old_id = item['id']\n",
    "            id_mapping[old_id] = str(new_id)\n",
    "            new_id += 1\n",
    "\n",
    "        # Update IDs and references\n",
    "        for item in json_obj:\n",
    "            item['id'] = id_mapping[item['id']]\n",
    "\n",
    "            if 'source_ref' in item:\n",
    "                item['source_ref'] = id_mapping[item['source_ref']]\n",
    "\n",
    "            if 'target_ref' in item:\n",
    "                item['target_ref'] = id_mapping[item['target_ref']]\n",
    "\n",
    "        # Print the updated data\n",
    "        return json_obj\n",
    "\n",
    "    # All nested attributes within one node/edge are flatten\n",
    "    # a: {b: v1, c: v2} is flatten to a dictionary {a.b: v1, a.c: v2}\n",
    "    def flatten_json(self,anNode_or_EdgeInSTIX):\n",
    "        out = {}\n",
    "\n",
    "        def flatten(x, name=''):\n",
    "            if isinstance(x, dict):\n",
    "                for a in x:\n",
    "                    flatten(x[a], name + a + '.')\n",
    "            elif isinstance(x, list):\n",
    "                for i, a in enumerate(x):\n",
    "                    flatten(a, name + str(i) + '.')\n",
    "            else:\n",
    "                out[name[:-1]] = x\n",
    "\n",
    "        flatten(anNode_or_EdgeInSTIX)\n",
    "        return out\n",
    "\n",
    "    # input is a dict\n",
    "    def node_or_edge_to_text(self,anFlattenNode_or_EdgeInSTIX):\n",
    "        text = \". \".join(f\"{key}: {value}\" for key, value in anFlattenNode_or_EdgeInSTIX.items())\n",
    "        return text\n",
    "\n",
    "    # input is a graph\n",
    "    def graph_to_text(self, a_graph):\n",
    "        a_graph_text={}\n",
    "        for node_or_edge in a_graph:\n",
    "            flattened_node_or_edge = self.flatten_json(node_or_edge)\n",
    "            # We don't need the id and we will reassign a new ID\n",
    "            original_id = flattened_node_or_edge.pop('id')\n",
    "            a_graph_text[original_id]=self.node_or_edge_to_text(flattened_node_or_edge)\n",
    "\n",
    "        return a_graph_text    \n",
    "\n",
    "    def generate_element_embeddings(self, a_graph):\n",
    "        graph_texts=self.graph_to_text(a_graph)\n",
    "        # Generate embeddings by converting object attributes to a single string\n",
    "        return {key: self.model.encode(text) for key, text in graph_texts.items()}\n",
    "\n",
    "    def compute_similarity_matrix(self, file=\"similarity_matrix.txt\"):\n",
    "        embeddings1=np.vstack(list(self.generate_element_embeddings(self.graph1).values()))\n",
    "        embeddings2=np.vstack(list(self.generate_element_embeddings(self.graph2).values()))\n",
    "\n",
    "        similarity=cosine_similarity(embeddings1, embeddings2)\n",
    "\n",
    "        with open(file, \"w\") as f:\n",
    "            for row in similarity:\n",
    "                f.write(\" \".join([str(x) for x in row]) + \"\\n\")\n",
    "\n",
    "        return similarity\n",
    "\n",
    "    def match_pairs(self, file=\"similarity_matrix.txt\", threshold=0.8):\n",
    "        if not os.path.exists(\"similarity_matrix.txt\"): # check if the file exists\n",
    "            self.compute_similarity_matrix() # compute the similarity matrix\n",
    "\n",
    "        with open(file) as f:\n",
    "            similarity = [[float(x) for x in line.strip().split()] for line in f] # read the matrix from the file\n",
    "\n",
    "        self.matched_pairs = {}\n",
    "        for i, row in enumerate(similarity):\n",
    "            max_score = max(row)\n",
    "            if max_score > threshold:\n",
    "                j = row.index(max_score)\n",
    "                if (j, i) not in self.matched_pairs and (i, j) not in self.matched_pairs: # check if the pair is already matched or reversed\n",
    "                    self.matched_pairs[i] = j\n",
    "\n",
    "    def replace_id(\n",
    "        self, a_graph, id_name, matched_pairs, shown_old_ids=False, graph_type=\"A\"\n",
    "    ):\n",
    "        id_start = (\n",
    "            self.new_id_start_graphA if graph_type == \"A\" else self.new_id_start_graphB\n",
    "        )\n",
    "        for obj in a_graph:\n",
    "            # make sure we found ID, source_ref, target_ref\n",
    "            if id_name in obj.keys():\n",
    "                key = int(obj[id_name]) - id_start\n",
    "                if key in matched_pairs.keys():\n",
    "                    if shown_old_ids:\n",
    "                        obj[\"old_\"+id_name] = key\n",
    "                    obj[id_name] = str(matched_pairs[key])\n",
    "\n",
    "                else:\n",
    "                    if shown_old_ids:\n",
    "                        obj[\"old_\" + id_name] = obj[id_name]\n",
    "                    obj[id_name] = obj[id_name]\n",
    "\n",
    "    def align_graph(self, a_graph, matched_pairs, shown_old_ids=False, graph_type=\"A\"):\n",
    "        # Update a graph with new IDs\n",
    "        self.replace_id(a_graph, \"id\", matched_pairs, shown_old_ids, graph_type)\n",
    "        self.replace_id(a_graph, \"source_ref\", matched_pairs, shown_old_ids, graph_type)\n",
    "        self.replace_id(a_graph, \"target_ref\", matched_pairs, shown_old_ids, graph_type)\n",
    "\n",
    "        return a_graph\n",
    "\n",
    "    def align_graphs(self, shown_old_ids=False):\n",
    "        self.match_pairs(file=\"similarity_matrix.txt\", threshold=0.8)\n",
    "\n",
    "        self.graph1 = self.align_graph(\n",
    "            self.graph1, self.matched_pairs, shown_old_ids, graph_type=\"A\"\n",
    "        )\n",
    "        self.graph2 = self.align_graph(\n",
    "            self.graph2, self.matched_pairs, shown_old_ids, graph_type=\"B\"\n",
    "        )\n",
    "\n",
    "        return self.graph1, self.graph2"
   ]
  },
  {
   "cell_type": "code",
   "execution_count": 3,
   "metadata": {},
   "outputs": [
    {
     "name": "stderr",
     "output_type": "stream",
     "text": [
      "i:\\conda_envs\\dspy_dfkg\\Lib\\site-packages\\huggingface_hub\\file_download.py:1132: FutureWarning: `resume_download` is deprecated and will be removed in version 1.0.0. Downloads always resume when possible. If you want to force a new download, use `force_download=True`.\n",
      "  warnings.warn(\n"
     ]
    }
   ],
   "source": [
    "# Example usage\n",
    "graph1_path = 'testcase/node_distance/06_a.json'  # Path to your first graph JSON file\n",
    "graph2_path = \"testcase/node_distance/06_b.json\"  # Path to your second graph JSON file\n",
    "\n",
    "aligner = GraphAligner(graph1_path, graph2_path)\n",
    "matrix=aligner.compute_similarity_matrix()\n",
    "matched_pair=aligner.match_pairs()\n",
    "\n",
    "# print(\"Aligned Graph 1:\", json.dumps(aligned_graph1, indent=2))\n",
    "# print(\"Aligned Graph 2:\", json.dumps(aligned_graph2, indent=2))"
   ]
  },
  {
   "cell_type": "code",
   "execution_count": 4,
   "metadata": {},
   "outputs": [
    {
     "data": {
      "text/plain": [
       "[{'id': '1',\n",
       "  'name': 'Hillary Clinton',\n",
       "  'description': 'Hillary Diane Rodham Clinton is an American politician',\n",
       "  'age': 70,\n",
       "  'birth': 'US'},\n",
       " {'id': '2',\n",
       "  'name': 'Christopher G. Kollmann',\n",
       "  'description': 'Forensic investigator',\n",
       "  'age': 48,\n",
       "  'birth': 'US'},\n",
       " {'id': '3', 'source_ref': '1', 'target_ref': '2'}]"
      ]
     },
     "execution_count": 4,
     "metadata": {},
     "output_type": "execute_result"
    }
   ],
   "source": [
    "aligner.load_json(graph1_path)"
   ]
  },
  {
   "cell_type": "code",
   "execution_count": 5,
   "metadata": {},
   "outputs": [
    {
     "data": {
      "text/plain": [
       "[{'id': '10000',\n",
       "  'name': 'Hillary Clinton',\n",
       "  'description': 'Hillary Diane Rodham Clinton is an American politician',\n",
       "  'age': 70,\n",
       "  'birth': 'US'},\n",
       " {'id': '10001',\n",
       "  'name': 'Christopher G. Kollmann',\n",
       "  'description': 'Forensic investigator',\n",
       "  'age': 48,\n",
       "  'birth': 'US'},\n",
       " {'id': '10002', 'source_ref': '10000', 'target_ref': '10001'}]"
      ]
     },
     "execution_count": 5,
     "metadata": {},
     "output_type": "execute_result"
    }
   ],
   "source": [
    "aligner.graph1"
   ]
  },
  {
   "cell_type": "code",
   "execution_count": 6,
   "metadata": {},
   "outputs": [
    {
     "data": {
      "text/plain": [
       "[{'id': '20000',\n",
       "  'name': 'Hillary Clinton',\n",
       "  'description': 'Hillary Diane Rodham Clinton is an American politician',\n",
       "  'age': 70,\n",
       "  'birth': 'US'},\n",
       " {'id': '20001',\n",
       "  'name': 'Elon Musk',\n",
       "  'description': 'Elon Reeve Musk is a businessman and investor.',\n",
       "  'age': 52,\n",
       "  'birth': 'South Africa'},\n",
       " {'id': '20002', 'source_ref': '20000', 'target_ref': '20001'}]"
      ]
     },
     "execution_count": 6,
     "metadata": {},
     "output_type": "execute_result"
    }
   ],
   "source": [
    "aligner.graph2"
   ]
  },
  {
   "cell_type": "code",
   "execution_count": 7,
   "metadata": {},
   "outputs": [
    {
     "name": "stdout",
     "output_type": "stream",
     "text": [
      "[[1.0000001  0.31793803 0.05827784]\n",
      " [0.24655926 0.39193857 0.15183762]\n",
      " [0.04843677 0.08228613 0.93008065]]\n"
     ]
    }
   ],
   "source": [
    "print(matrix)"
   ]
  },
  {
   "cell_type": "code",
   "execution_count": 8,
   "metadata": {},
   "outputs": [
    {
     "name": "stdout",
     "output_type": "stream",
     "text": [
      "{0: 0, 2: 2}\n"
     ]
    }
   ],
   "source": [
    "print(aligner.matched_pairs)"
   ]
  },
  {
   "cell_type": "code",
   "execution_count": 9,
   "metadata": {},
   "outputs": [],
   "source": [
    "g1, g2=aligner.align_graphs(shown_old_ids=False)"
   ]
  },
  {
   "cell_type": "code",
   "execution_count": 10,
   "metadata": {},
   "outputs": [
    {
     "data": {
      "text/plain": [
       "[{'id': '0',\n",
       "  'name': 'Hillary Clinton',\n",
       "  'description': 'Hillary Diane Rodham Clinton is an American politician',\n",
       "  'age': 70,\n",
       "  'birth': 'US'},\n",
       " {'id': '10001',\n",
       "  'name': 'Christopher G. Kollmann',\n",
       "  'description': 'Forensic investigator',\n",
       "  'age': 48,\n",
       "  'birth': 'US'},\n",
       " {'id': '2', 'source_ref': '0', 'target_ref': '10001'}]"
      ]
     },
     "execution_count": 10,
     "metadata": {},
     "output_type": "execute_result"
    }
   ],
   "source": [
    "g1"
   ]
  },
  {
   "cell_type": "code",
   "execution_count": 11,
   "metadata": {},
   "outputs": [
    {
     "data": {
      "text/plain": [
       "[{'id': '0',\n",
       "  'name': 'Hillary Clinton',\n",
       "  'description': 'Hillary Diane Rodham Clinton is an American politician',\n",
       "  'age': 70,\n",
       "  'birth': 'US'},\n",
       " {'id': '20001',\n",
       "  'name': 'Elon Musk',\n",
       "  'description': 'Elon Reeve Musk is a businessman and investor.',\n",
       "  'age': 52,\n",
       "  'birth': 'South Africa'},\n",
       " {'id': '2', 'source_ref': '0', 'target_ref': '20001'}]"
      ]
     },
     "execution_count": 11,
     "metadata": {},
     "output_type": "execute_result"
    }
   ],
   "source": [
    "g2"
   ]
  },
  {
   "cell_type": "code",
   "execution_count": null,
   "metadata": {},
   "outputs": [],
   "source": []
  }
 ],
 "metadata": {
  "kernelspec": {
   "display_name": "Python 3",
   "language": "python",
   "name": "python3"
  },
  "language_info": {
   "codemirror_mode": {
    "name": "ipython",
    "version": 3
   },
   "file_extension": ".py",
   "mimetype": "text/x-python",
   "name": "python",
   "nbconvert_exporter": "python",
   "pygments_lexer": "ipython3",
   "version": "3.12.3"
  }
 },
 "nbformat": 4,
 "nbformat_minor": 2
}
